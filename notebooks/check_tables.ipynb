{
 "cells": [
  {
   "cell_type": "markdown",
   "metadata": {},
   "source": [
    "## Analysing table created from the script "
   ]
  },
  {
   "cell_type": "code",
   "execution_count": 1,
   "metadata": {},
   "outputs": [],
   "source": [
    "import pandas as pd"
   ]
  },
  {
   "cell_type": "code",
   "execution_count": 7,
   "metadata": {},
   "outputs": [],
   "source": [
    "df_analysis = pd.read_csv('../outputs/mgnify_analysis.csv')\n",
    "#df_studies = pd.read_csv('../outputs/mgnify_studies.csv')"
   ]
  },
  {
   "cell_type": "code",
   "execution_count": null,
   "metadata": {},
   "outputs": [
    {
     "data": {
      "text/html": [
       "<div>\n",
       "<style scoped>\n",
       "    .dataframe tbody tr th:only-of-type {\n",
       "        vertical-align: middle;\n",
       "    }\n",
       "\n",
       "    .dataframe tbody tr th {\n",
       "        vertical-align: top;\n",
       "    }\n",
       "\n",
       "    .dataframe thead th {\n",
       "        text-align: right;\n",
       "    }\n",
       "</style>\n",
       "<table border=\"1\" class=\"dataframe\">\n",
       "  <thead>\n",
       "    <tr style=\"text-align: right;\">\n",
       "      <th></th>\n",
       "      <th>analysis_id</th>\n",
       "      <th>sample_id</th>\n",
       "      <th>assembly_run_id</th>\n",
       "      <th>experiment_type</th>\n",
       "      <th>pipeline_version</th>\n",
       "      <th>study_id</th>\n",
       "      <th>instrument_platform</th>\n",
       "    </tr>\n",
       "  </thead>\n",
       "  <tbody>\n",
       "    <tr>\n",
       "      <th>0</th>\n",
       "      <td>MGYA00166416</td>\n",
       "      <td>ERS2488844</td>\n",
       "      <td>ERR2586218</td>\n",
       "      <td>metagenomic</td>\n",
       "      <td>4.1</td>\n",
       "      <td>MGYS00002383</td>\n",
       "      <td>Illumina HiSeq 2500</td>\n",
       "    </tr>\n",
       "    <tr>\n",
       "      <th>1</th>\n",
       "      <td>MGYA00166417</td>\n",
       "      <td>ERS2488846</td>\n",
       "      <td>ERR2586220</td>\n",
       "      <td>metagenomic</td>\n",
       "      <td>4.1</td>\n",
       "      <td>MGYS00002383</td>\n",
       "      <td>Illumina HiSeq 2500</td>\n",
       "    </tr>\n",
       "    <tr>\n",
       "      <th>2</th>\n",
       "      <td>MGYA00166418</td>\n",
       "      <td>ERS2488842</td>\n",
       "      <td>ERR2586216</td>\n",
       "      <td>metagenomic</td>\n",
       "      <td>4.1</td>\n",
       "      <td>MGYS00002383</td>\n",
       "      <td>Illumina HiSeq 2500</td>\n",
       "    </tr>\n",
       "    <tr>\n",
       "      <th>3</th>\n",
       "      <td>MGYA00166419</td>\n",
       "      <td>ERS2488841</td>\n",
       "      <td>ERR2586215</td>\n",
       "      <td>metagenomic</td>\n",
       "      <td>4.1</td>\n",
       "      <td>MGYS00002383</td>\n",
       "      <td>Illumina HiSeq 2500</td>\n",
       "    </tr>\n",
       "    <tr>\n",
       "      <th>4</th>\n",
       "      <td>MGYA00166420</td>\n",
       "      <td>ERS2488845</td>\n",
       "      <td>ERR2586219</td>\n",
       "      <td>metagenomic</td>\n",
       "      <td>4.1</td>\n",
       "      <td>MGYS00002383</td>\n",
       "      <td>Illumina HiSeq 2500</td>\n",
       "    </tr>\n",
       "    <tr>\n",
       "      <th>5</th>\n",
       "      <td>MGYA00166421</td>\n",
       "      <td>ERS2488843</td>\n",
       "      <td>ERR2586217</td>\n",
       "      <td>metagenomic</td>\n",
       "      <td>4.1</td>\n",
       "      <td>MGYS00002383</td>\n",
       "      <td>Illumina HiSeq 2500</td>\n",
       "    </tr>\n",
       "    <tr>\n",
       "      <th>6</th>\n",
       "      <td>MGYA00215806</td>\n",
       "      <td>ERS2597453</td>\n",
       "      <td>ERR2683248</td>\n",
       "      <td>metagenomic</td>\n",
       "      <td>4.1</td>\n",
       "      <td>MGYS00003139</td>\n",
       "      <td>Illumina NovaSeq 6000</td>\n",
       "    </tr>\n",
       "    <tr>\n",
       "      <th>7</th>\n",
       "      <td>MGYA00215807</td>\n",
       "      <td>ERS2597414</td>\n",
       "      <td>ERR2683209</td>\n",
       "      <td>metagenomic</td>\n",
       "      <td>4.1</td>\n",
       "      <td>MGYS00003139</td>\n",
       "      <td>Illumina NovaSeq 6000</td>\n",
       "    </tr>\n",
       "    <tr>\n",
       "      <th>8</th>\n",
       "      <td>MGYA00215808</td>\n",
       "      <td>ERS2597463</td>\n",
       "      <td>ERR2683258</td>\n",
       "      <td>metagenomic</td>\n",
       "      <td>4.1</td>\n",
       "      <td>MGYS00003139</td>\n",
       "      <td>Illumina NovaSeq 6000</td>\n",
       "    </tr>\n",
       "    <tr>\n",
       "      <th>9</th>\n",
       "      <td>MGYA00215809</td>\n",
       "      <td>ERS2597471</td>\n",
       "      <td>ERR2683266</td>\n",
       "      <td>metagenomic</td>\n",
       "      <td>4.1</td>\n",
       "      <td>MGYS00003139</td>\n",
       "      <td>Illumina NovaSeq 6000</td>\n",
       "    </tr>\n",
       "  </tbody>\n",
       "</table>\n",
       "</div>"
      ],
      "text/plain": [
       "    analysis_id   sample_id assembly_run_id experiment_type  pipeline_version  \\\n",
       "0  MGYA00166416  ERS2488844      ERR2586218     metagenomic               4.1   \n",
       "1  MGYA00166417  ERS2488846      ERR2586220     metagenomic               4.1   \n",
       "2  MGYA00166418  ERS2488842      ERR2586216     metagenomic               4.1   \n",
       "3  MGYA00166419  ERS2488841      ERR2586215     metagenomic               4.1   \n",
       "4  MGYA00166420  ERS2488845      ERR2586219     metagenomic               4.1   \n",
       "5  MGYA00166421  ERS2488843      ERR2586217     metagenomic               4.1   \n",
       "6  MGYA00215806  ERS2597453      ERR2683248     metagenomic               4.1   \n",
       "7  MGYA00215807  ERS2597414      ERR2683209     metagenomic               4.1   \n",
       "8  MGYA00215808  ERS2597463      ERR2683258     metagenomic               4.1   \n",
       "9  MGYA00215809  ERS2597471      ERR2683266     metagenomic               4.1   \n",
       "\n",
       "       study_id    instrument_platform  \n",
       "0  MGYS00002383    Illumina HiSeq 2500  \n",
       "1  MGYS00002383    Illumina HiSeq 2500  \n",
       "2  MGYS00002383    Illumina HiSeq 2500  \n",
       "3  MGYS00002383    Illumina HiSeq 2500  \n",
       "4  MGYS00002383    Illumina HiSeq 2500  \n",
       "5  MGYS00002383    Illumina HiSeq 2500  \n",
       "6  MGYS00003139  Illumina NovaSeq 6000  \n",
       "7  MGYS00003139  Illumina NovaSeq 6000  \n",
       "8  MGYS00003139  Illumina NovaSeq 6000  \n",
       "9  MGYS00003139  Illumina NovaSeq 6000  "
      ]
     },
     "execution_count": 3,
     "metadata": {},
     "output_type": "execute_result"
    }
   ],
   "source": [
    "df_analysis.head(10)"
   ]
  },
  {
   "cell_type": "code",
   "execution_count": 8,
   "metadata": {},
   "outputs": [
    {
     "data": {
      "text/plain": [
       "(985, 7)"
      ]
     },
     "execution_count": 8,
     "metadata": {},
     "output_type": "execute_result"
    }
   ],
   "source": [
    "df_analysis.shape"
   ]
  },
  {
   "cell_type": "code",
   "execution_count": 15,
   "metadata": {},
   "outputs": [
    {
     "data": {
      "text/plain": [
       "806"
      ]
     },
     "execution_count": 15,
     "metadata": {},
     "output_type": "execute_result"
    }
   ],
   "source": [
    "pd.Series(df_analysis['assembly_run_id'].unique()).count()"
   ]
  },
  {
   "cell_type": "code",
   "execution_count": 16,
   "metadata": {},
   "outputs": [
    {
     "data": {
      "text/plain": [
       "179"
      ]
     },
     "execution_count": 16,
     "metadata": {},
     "output_type": "execute_result"
    }
   ],
   "source": [
    "df_analysis.shape[0] - pd.Series(df_analysis['assembly_run_id'].unique()).count()"
   ]
  },
  {
   "cell_type": "code",
   "execution_count": 10,
   "metadata": {},
   "outputs": [
    {
     "data": {
      "text/plain": [
       "array(['MGYS00002383', 'MGYS00003139', 'MGYS00001312', 'MGYS00003674',\n",
       "       'MGYS00005046', 'MGYS00005055', 'MGYS00005056', 'MGYS00005058',\n",
       "       'MGYS00001277', 'MGYS00001382', 'MGYS00001389', 'MGYS00001391',\n",
       "       'MGYS00001392', 'MGYS00001418', 'MGYS00001453', 'MGYS00001542',\n",
       "       'MGYS00001566', 'MGYS00001851', 'MGYS00001903', 'MGYS00000555',\n",
       "       'MGYS00000597', 'MGYS00000606', 'MGYS00000648', 'MGYS00000777',\n",
       "       'MGYS00001110', 'MGYS00001135', 'MGYS00000423', 'MGYS00000425'],\n",
       "      dtype=object)"
      ]
     },
     "execution_count": 10,
     "metadata": {},
     "output_type": "execute_result"
    }
   ],
   "source": [
    "df_analysis['study_id'].unique()"
   ]
  },
  {
   "cell_type": "code",
   "execution_count": 11,
   "metadata": {},
   "outputs": [],
   "source": [
    "unique_study_ids = pd.Series(df_analysis['study_id'].unique())"
   ]
  },
  {
   "cell_type": "code",
   "execution_count": 12,
   "metadata": {},
   "outputs": [
    {
     "data": {
      "text/plain": [
       "28"
      ]
     },
     "execution_count": 12,
     "metadata": {},
     "output_type": "execute_result"
    }
   ],
   "source": [
    "unique_study_ids.count()"
   ]
  },
  {
   "cell_type": "code",
   "execution_count": null,
   "metadata": {},
   "outputs": [],
   "source": [
    "unique_study_ids.to_csv('unique_study_ids.txt', index=False, header=False)"
   ]
  }
 ],
 "metadata": {
  "kernelspec": {
   "display_name": "Python 3",
   "language": "python",
   "name": "python3"
  },
  "language_info": {
   "codemirror_mode": {
    "name": "ipython",
    "version": 3
   },
   "file_extension": ".py",
   "mimetype": "text/x-python",
   "name": "python",
   "nbconvert_exporter": "python",
   "pygments_lexer": "ipython3",
   "version": "3.12.0"
  },
  "orig_nbformat": 4
 },
 "nbformat": 4,
 "nbformat_minor": 2
}
